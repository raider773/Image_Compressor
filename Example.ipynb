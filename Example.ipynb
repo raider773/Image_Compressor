{
 "cells": [
  {
   "cell_type": "markdown",
   "id": "heard-hamilton",
   "metadata": {},
   "source": [
    "### Image Compressor"
   ]
  },
  {
   "cell_type": "markdown",
   "id": "coated-planet",
   "metadata": {},
   "source": [
    "Import original images. This images come from an internal API.\n",
    "They are recieved in a dictionary, where the key is the picture id and the value is the numpy array of the picture (matrix)"
   ]
  },
  {
   "cell_type": "code",
   "execution_count": null,
   "id": "departmental-staff",
   "metadata": {},
   "outputs": [],
   "source": [
    "with open(f\"ComputerVision/Pictures/PicturesACC.pickle\", 'rb') as pickle_file:\n",
    "        Pictures = pickle.load(pickle_file)  "
   ]
  },
  {
   "cell_type": "markdown",
   "id": "lesbian-concept",
   "metadata": {},
   "source": [
    "Use compressor and parallelization to compress every picture of the dictionary and store them im the sparse matrix"
   ]
  },
  {
   "cell_type": "code",
   "execution_count": null,
   "id": "reasonable-applicant",
   "metadata": {},
   "outputs": [],
   "source": [
    "import compressor\n",
    "compresor = compressor.Compressor(scaler=5, top_percent_threshold=0.04,eps=1e-16, compressed_dtype=np.int16)  \n",
    "\n",
    "\n",
    "\n",
    "from multiprocessing import cpu_count\n",
    "from joblib import Parallel,delayed\n",
    "def compress(picture,item):    \n",
    "    return {\"item_id\":item, \"Picture\":compresor.compress(picture, axis=2)}\n",
    "\n",
    "compressed_list = Parallel(n_jobs=cpu_count())(\n",
    "    delayed(compress)(picture[\"Picture\"],picture[\"item_id\"]) for picture in Pictures\n",
    ")"
   ]
  },
  {
   "cell_type": "markdown",
   "id": "parallel-competition",
   "metadata": {},
   "source": [
    "Decompress example"
   ]
  },
  {
   "cell_type": "code",
   "execution_count": null,
   "id": "abandoned-damages",
   "metadata": {},
   "outputs": [],
   "source": [
    "retrieved = []\n",
    "\n",
    "for i in Pictures[]: \n",
    "    retrieved.append(compresor.decompress(i[\"Picture\"]))   "
   ]
  }
 ],
 "metadata": {
  "kernelspec": {
   "display_name": "Python 3",
   "language": "python",
   "name": "python3"
  },
  "language_info": {
   "codemirror_mode": {
    "name": "ipython",
    "version": 3
   },
   "file_extension": ".py",
   "mimetype": "text/x-python",
   "name": "python",
   "nbconvert_exporter": "python",
   "pygments_lexer": "ipython3",
   "version": "3.7.10"
  }
 },
 "nbformat": 4,
 "nbformat_minor": 5
}
